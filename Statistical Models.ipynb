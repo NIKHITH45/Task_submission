{
 "cells": [
  {
   "cell_type": "code",
   "execution_count": 1,
   "id": "e37efbb9",
   "metadata": {
    "_cell_guid": "b1076dfc-b9ad-4769-8c92-a6c4dae69d19",
    "_uuid": "8f2839f25d086af736a60e9eeb907d3b93b6e0e5",
    "execution": {
     "iopub.execute_input": "2024-03-16T05:30:39.778684Z",
     "iopub.status.busy": "2024-03-16T05:30:39.777659Z",
     "iopub.status.idle": "2024-03-16T05:30:40.853843Z",
     "shell.execute_reply": "2024-03-16T05:30:40.852465Z"
    },
    "papermill": {
     "duration": 1.090893,
     "end_time": "2024-03-16T05:30:40.856805",
     "exception": false,
     "start_time": "2024-03-16T05:30:39.765912",
     "status": "completed"
    },
    "tags": []
   },
   "outputs": [
    {
     "name": "stdout",
     "output_type": "stream",
     "text": [
      "/kaggle/input/emotion-dataset/validation.csv\n",
      "/kaggle/input/emotion-dataset/training.csv\n",
      "/kaggle/input/emotion-dataset/test.csv\n",
      "/kaggle/input/bert/tensorflow2/en-uncased-preprocess/3/saved_model.pb\n",
      "/kaggle/input/bert/tensorflow2/en-uncased-preprocess/3/keras_metadata.pb\n",
      "/kaggle/input/bert/tensorflow2/en-uncased-preprocess/3/assets/vocab.txt\n",
      "/kaggle/input/bert/tensorflow2/en-uncased-preprocess/3/variables/variables.index\n",
      "/kaggle/input/bert/tensorflow2/en-uncased-preprocess/3/variables/variables.data-00000-of-00001\n"
     ]
    }
   ],
   "source": [
    "# This Python 3 environment comes with many helpful analytics libraries installed\n",
    "# It is defined by the kaggle/python Docker image: https://github.com/kaggle/docker-python\n",
    "# For example, here's several helpful packages to load\n",
    "\n",
    "import numpy as np # linear algebra\n",
    "import pandas as pd # data processing, CSV file I/O (e.g. pd.read_csv)\n",
    "\n",
    "# Input data files are available in the read-only \"../input/\" directory\n",
    "# For example, running this (by clicking run or pressing Shift+Enter) will list all files under the input directory\n",
    "\n",
    "import os\n",
    "for dirname, _, filenames in os.walk('/kaggle/input'):\n",
    "    for filename in filenames:\n",
    "        print(os.path.join(dirname, filename))\n",
    "\n",
    "# You can write up to 20GB to the current directory (/kaggle/working/) that gets preserved as output when you create a version using \"Save & Run All\" \n",
    "# You can also write temporary files to /kaggle/temp/, but they won't be saved outside of the current session"
   ]
  },
  {
   "cell_type": "code",
   "execution_count": 2,
   "id": "95863f7e",
   "metadata": {
    "execution": {
     "iopub.execute_input": "2024-03-16T05:30:40.878372Z",
     "iopub.status.busy": "2024-03-16T05:30:40.877097Z",
     "iopub.status.idle": "2024-03-16T05:30:48.641382Z",
     "shell.execute_reply": "2024-03-16T05:30:48.639459Z"
    },
    "papermill": {
     "duration": 7.778154,
     "end_time": "2024-03-16T05:30:48.644517",
     "exception": false,
     "start_time": "2024-03-16T05:30:40.866363",
     "status": "completed"
    },
    "tags": []
   },
   "outputs": [
    {
     "name": "stdout",
     "output_type": "stream",
     "text": [
      "--2024-03-16 05:30:41--  https://saifmohammad.com/WebDocs/EmoInt%20Train%20Data/anger-ratings-0to1.train.txt\r\n",
      "Resolving saifmohammad.com (saifmohammad.com)... 192.185.17.122\r\n",
      "Connecting to saifmohammad.com (saifmohammad.com)|192.185.17.122|:443... connected.\r\n",
      "HTTP request sent, awaiting response... 200 OK\r\n",
      "Length: 95686 (93K) [text/plain]\r\n",
      "Saving to: 'anger-ratings-0to1.train.txt'\r\n",
      "\r\n",
      "anger-ratings-0to1. 100%[===================>]  93.44K   312KB/s    in 0.3s    \r\n",
      "\r\n",
      "2024-03-16 05:30:42 (312 KB/s) - 'anger-ratings-0to1.train.txt' saved [95686/95686]\r\n",
      "\r\n",
      "--2024-03-16 05:30:43--  https://saifmohammad.com/WebDocs/EmoInt%20Train%20Data/fear-ratings-0to1.train.txt\r\n",
      "Resolving saifmohammad.com (saifmohammad.com)... 192.185.17.122\r\n",
      "Connecting to saifmohammad.com (saifmohammad.com)|192.185.17.122|:443... connected.\r\n",
      "HTTP request sent, awaiting response... 200 OK\r\n",
      "Length: 133186 (130K) [text/plain]\r\n",
      "Saving to: 'fear-ratings-0to1.train.txt'\r\n",
      "\r\n",
      "fear-ratings-0to1.t 100%[===================>] 130.06K   435KB/s    in 0.3s    \r\n",
      "\r\n",
      "2024-03-16 05:30:44 (435 KB/s) - 'fear-ratings-0to1.train.txt' saved [133186/133186]\r\n",
      "\r\n",
      "--2024-03-16 05:30:45--  https://saifmohammad.com/WebDocs/EmoInt%20Train%20Data/joy-ratings-0to1.train.txt\r\n",
      "Resolving saifmohammad.com (saifmohammad.com)... 192.185.17.122\r\n",
      "Connecting to saifmohammad.com (saifmohammad.com)|192.185.17.122|:443... connected.\r\n",
      "HTTP request sent, awaiting response... 200 OK\r\n",
      "Length: 92266 (90K) [text/plain]\r\n",
      "Saving to: 'joy-ratings-0to1.train.txt'\r\n",
      "\r\n",
      "joy-ratings-0to1.tr 100%[===================>]  90.10K   301KB/s    in 0.3s    \r\n",
      "\r\n",
      "2024-03-16 05:30:46 (301 KB/s) - 'joy-ratings-0to1.train.txt' saved [92266/92266]\r\n",
      "\r\n",
      "--2024-03-16 05:30:47--  https://saifmohammad.com/WebDocs/EmoInt%20Train%20Data/sadness-ratings-0to1.train.txt\r\n",
      "Resolving saifmohammad.com (saifmohammad.com)... 192.185.17.122\r\n",
      "Connecting to saifmohammad.com (saifmohammad.com)|192.185.17.122|:443... connected.\r\n",
      "HTTP request sent, awaiting response... 200 OK\r\n",
      "Length: 92977 (91K) [text/plain]\r\n",
      "Saving to: 'sadness-ratings-0to1.train.txt'\r\n",
      "\r\n",
      "sadness-ratings-0to 100%[===================>]  90.80K   303KB/s    in 0.3s    \r\n",
      "\r\n",
      "2024-03-16 05:30:48 (303 KB/s) - 'sadness-ratings-0to1.train.txt' saved [92977/92977]\r\n",
      "\r\n"
     ]
    }
   ],
   "source": [
    "!wget https://saifmohammad.com/WebDocs/EmoInt%20Train%20Data/anger-ratings-0to1.train.txt\n",
    "!wget https://saifmohammad.com/WebDocs/EmoInt%20Train%20Data/fear-ratings-0to1.train.txt\n",
    "!wget https://saifmohammad.com/WebDocs/EmoInt%20Train%20Data/joy-ratings-0to1.train.txt\n",
    "!wget https://saifmohammad.com/WebDocs/EmoInt%20Train%20Data/sadness-ratings-0to1.train.txt"
   ]
  },
  {
   "cell_type": "code",
   "execution_count": 3,
   "id": "ab65120f",
   "metadata": {
    "execution": {
     "iopub.execute_input": "2024-03-16T05:30:48.671410Z",
     "iopub.status.busy": "2024-03-16T05:30:48.670948Z",
     "iopub.status.idle": "2024-03-16T05:30:54.317679Z",
     "shell.execute_reply": "2024-03-16T05:30:54.316053Z"
    },
    "papermill": {
     "duration": 5.663431,
     "end_time": "2024-03-16T05:30:54.320420",
     "exception": false,
     "start_time": "2024-03-16T05:30:48.656989",
     "status": "completed"
    },
    "tags": []
   },
   "outputs": [
    {
     "name": "stdout",
     "output_type": "stream",
     "text": [
      "--2024-03-16 05:30:49--  https://saifmohammad.com/WebDocs/EmoInt%20Dev%20Data/anger-ratings-0to1.dev.target.txt\r\n",
      "Resolving saifmohammad.com (saifmohammad.com)... 192.185.17.122\r\n",
      "Connecting to saifmohammad.com (saifmohammad.com)|192.185.17.122|:443... connected.\r\n",
      "HTTP request sent, awaiting response... 200 OK\r\n",
      "Length: 9603 (9.4K) [text/plain]\r\n",
      "Saving to: 'anger-ratings-0to1.dev.target.txt'\r\n",
      "\r\n",
      "anger-ratings-0to1. 100%[===================>]   9.38K  --.-KB/s    in 0s      \r\n",
      "\r\n",
      "2024-03-16 05:30:50 (88.8 MB/s) - 'anger-ratings-0to1.dev.target.txt' saved [9603/9603]\r\n",
      "\r\n",
      "--2024-03-16 05:30:51--  http://saifmohammad.com/WebDocs/EmoInt%20Dev%20Data/fear-ratings-0to1.dev.target.txt\r\n",
      "Resolving saifmohammad.com (saifmohammad.com)... 192.185.17.122\r\n",
      "Connecting to saifmohammad.com (saifmohammad.com)|192.185.17.122|:80... connected.\r\n",
      "HTTP request sent, awaiting response... 200 OK\r\n",
      "Length: 12793 (12K) [text/plain]\r\n",
      "Saving to: 'fear-ratings-0to1.dev.target.txt'\r\n",
      "\r\n",
      "fear-ratings-0to1.d 100%[===================>]  12.49K  --.-KB/s    in 0s      \r\n",
      "\r\n",
      "2024-03-16 05:30:51 (183 MB/s) - 'fear-ratings-0to1.dev.target.txt' saved [12793/12793]\r\n",
      "\r\n",
      "--2024-03-16 05:30:52--  http://saifmohammad.com/WebDocs/EmoInt%20Dev%20Data/joy-ratings-0to1.dev.target.txt\r\n",
      "Resolving saifmohammad.com (saifmohammad.com)... 192.185.17.122\r\n",
      "Connecting to saifmohammad.com (saifmohammad.com)|192.185.17.122|:80... connected.\r\n",
      "HTTP request sent, awaiting response... 200 OK\r\n",
      "Length: 8665 (8.5K) [text/plain]\r\n",
      "Saving to: 'joy-ratings-0to1.dev.target.txt'\r\n",
      "\r\n",
      "joy-ratings-0to1.de 100%[===================>]   8.46K  --.-KB/s    in 0s      \r\n",
      "\r\n",
      "2024-03-16 05:30:52 (137 MB/s) - 'joy-ratings-0to1.dev.target.txt' saved [8665/8665]\r\n",
      "\r\n",
      "--2024-03-16 05:30:53--  http://saifmohammad.com/WebDocs/EmoInt%20Dev%20Data/sadness-ratings-0to1.dev.target.txt\r\n",
      "Resolving saifmohammad.com (saifmohammad.com)... 192.185.17.122\r\n",
      "Connecting to saifmohammad.com (saifmohammad.com)|192.185.17.122|:80... connected.\r\n",
      "HTTP request sent, awaiting response... 200 OK\r\n",
      "Length: 8969 (8.8K) [text/plain]\r\n",
      "Saving to: 'sadness-ratings-0to1.dev.target.txt'\r\n",
      "\r\n",
      "sadness-ratings-0to 100%[===================>]   8.76K  --.-KB/s    in 0s      \r\n",
      "\r\n",
      "2024-03-16 05:30:54 (144 MB/s) - 'sadness-ratings-0to1.dev.target.txt' saved [8969/8969]\r\n",
      "\r\n"
     ]
    }
   ],
   "source": [
    "!wget https://saifmohammad.com/WebDocs/EmoInt%20Dev%20Data/anger-ratings-0to1.dev.target.txt\n",
    "!wget http://saifmohammad.com/WebDocs/EmoInt%20Dev%20Data/fear-ratings-0to1.dev.target.txt\n",
    "!wget http://saifmohammad.com/WebDocs/EmoInt%20Dev%20Data/joy-ratings-0to1.dev.target.txt\n",
    "!wget http://saifmohammad.com/WebDocs/EmoInt%20Dev%20Data/sadness-ratings-0to1.dev.target.txt"
   ]
  },
  {
   "cell_type": "code",
   "execution_count": 4,
   "id": "70373200",
   "metadata": {
    "execution": {
     "iopub.execute_input": "2024-03-16T05:30:54.350262Z",
     "iopub.status.busy": "2024-03-16T05:30:54.349400Z",
     "iopub.status.idle": "2024-03-16T05:31:00.770870Z",
     "shell.execute_reply": "2024-03-16T05:31:00.769560Z"
    },
    "papermill": {
     "duration": 6.43965,
     "end_time": "2024-03-16T05:31:00.773627",
     "exception": false,
     "start_time": "2024-03-16T05:30:54.333977",
     "status": "completed"
    },
    "tags": []
   },
   "outputs": [
    {
     "name": "stdout",
     "output_type": "stream",
     "text": [
      "--2024-03-16 05:30:55--  http://saifmohammad.com/WebDocs/EmoInt%20Test%20Data/anger-ratings-0to1.test.target.txt\r\n",
      "Resolving saifmohammad.com (saifmohammad.com)... 192.185.17.122\r\n",
      "Connecting to saifmohammad.com (saifmohammad.com)|192.185.17.122|:80... connected.\r\n",
      "HTTP request sent, awaiting response... 200 OK\r\n",
      "Length: 86506 (84K) [text/plain]\r\n",
      "Saving to: 'anger-ratings-0to1.test.target.txt'\r\n",
      "\r\n",
      "anger-ratings-0to1. 100%[===================>]  84.48K   283KB/s    in 0.3s    \r\n",
      "\r\n",
      "2024-03-16 05:30:55 (283 KB/s) - 'anger-ratings-0to1.test.target.txt' saved [86506/86506]\r\n",
      "\r\n",
      "--2024-03-16 05:30:56--  http://saifmohammad.com/WebDocs/EmoInt%20Test%20Gold%20Data/fear-ratings-0to1.test.gold.txt\r\n",
      "Resolving saifmohammad.com (saifmohammad.com)... 192.185.17.122\r\n",
      "Connecting to saifmohammad.com (saifmohammad.com)|192.185.17.122|:80... connected.\r\n",
      "HTTP request sent, awaiting response... 200 OK\r\n",
      "Length: 114255 (112K) [text/plain]\r\n",
      "Saving to: 'fear-ratings-0to1.test.gold.txt'\r\n",
      "\r\n",
      "fear-ratings-0to1.t 100%[===================>] 111.58K   373KB/s    in 0.3s    \r\n",
      "\r\n",
      "2024-03-16 05:30:57 (373 KB/s) - 'fear-ratings-0to1.test.gold.txt' saved [114255/114255]\r\n",
      "\r\n",
      "--2024-03-16 05:30:58--  http://saifmohammad.com/WebDocs/EmoInt%20Test%20Gold%20Data/joy-ratings-0to1.test.gold.txt\r\n",
      "Resolving saifmohammad.com (saifmohammad.com)... 192.185.17.122\r\n",
      "Connecting to saifmohammad.com (saifmohammad.com)|192.185.17.122|:80... connected.\r\n",
      "HTTP request sent, awaiting response... 200 OK\r\n",
      "Length: 80025 (78K) [text/plain]\r\n",
      "Saving to: 'joy-ratings-0to1.test.gold.txt'\r\n",
      "\r\n",
      "joy-ratings-0to1.te 100%[===================>]  78.15K   392KB/s    in 0.2s    \r\n",
      "\r\n",
      "2024-03-16 05:30:59 (392 KB/s) - 'joy-ratings-0to1.test.gold.txt' saved [80025/80025]\r\n",
      "\r\n",
      "--2024-03-16 05:31:00--  http://saifmohammad.com/WebDocs/EmoInt%20Test%20Gold%20Data/sadness-ratings-0to1.test.gold.txt\r\n",
      "Resolving saifmohammad.com (saifmohammad.com)... 192.185.17.122\r\n",
      "Connecting to saifmohammad.com (saifmohammad.com)|192.185.17.122|:80... connected.\r\n",
      "HTTP request sent, awaiting response... 200 OK\r\n",
      "Length: 78906 (77K) [text/plain]\r\n",
      "Saving to: 'sadness-ratings-0to1.test.gold.txt'\r\n",
      "\r\n",
      "sadness-ratings-0to 100%[===================>]  77.06K   258KB/s    in 0.3s    \r\n",
      "\r\n",
      "2024-03-16 05:31:00 (258 KB/s) - 'sadness-ratings-0to1.test.gold.txt' saved [78906/78906]\r\n",
      "\r\n"
     ]
    }
   ],
   "source": [
    "!wget http://saifmohammad.com/WebDocs/EmoInt%20Test%20Data/anger-ratings-0to1.test.target.txt\n",
    "!wget http://saifmohammad.com/WebDocs/EmoInt%20Test%20Gold%20Data/fear-ratings-0to1.test.gold.txt\n",
    "!wget http://saifmohammad.com/WebDocs/EmoInt%20Test%20Gold%20Data/joy-ratings-0to1.test.gold.txt\n",
    "!wget http://saifmohammad.com/WebDocs/EmoInt%20Test%20Gold%20Data/sadness-ratings-0to1.test.gold.txt"
   ]
  },
  {
   "cell_type": "code",
   "execution_count": 5,
   "id": "6049cb9c",
   "metadata": {
    "execution": {
     "iopub.execute_input": "2024-03-16T05:31:00.806337Z",
     "iopub.status.busy": "2024-03-16T05:31:00.805843Z",
     "iopub.status.idle": "2024-03-16T05:31:00.843643Z",
     "shell.execute_reply": "2024-03-16T05:31:00.842292Z"
    },
    "papermill": {
     "duration": 0.057589,
     "end_time": "2024-03-16T05:31:00.846538",
     "exception": false,
     "start_time": "2024-03-16T05:31:00.788949",
     "status": "completed"
    },
    "tags": []
   },
   "outputs": [],
   "source": [
    "import pandas as pd\n",
    "joy_test =pd.read_csv(\"joy-ratings-0to1.test.gold.txt\",sep=\"\\t\",header=None)\n",
    "fear_test =pd.read_csv(\"fear-ratings-0to1.test.gold.txt\",sep=\"\\t\",header=None)\n",
    "anger_test=pd.read_csv(\"anger-ratings-0to1.test.target.txt\",sep=\"\\t\",header=None)\n",
    "sad_test=pd.read_csv(\"sadness-ratings-0to1.test.gold.txt\",sep=\"\\t\",header=None)"
   ]
  },
  {
   "cell_type": "code",
   "execution_count": 6,
   "id": "577fa7f5",
   "metadata": {
    "execution": {
     "iopub.execute_input": "2024-03-16T05:31:00.879858Z",
     "iopub.status.busy": "2024-03-16T05:31:00.879475Z",
     "iopub.status.idle": "2024-03-16T05:31:00.887994Z",
     "shell.execute_reply": "2024-03-16T05:31:00.886654Z"
    },
    "papermill": {
     "duration": 0.028618,
     "end_time": "2024-03-16T05:31:00.890463",
     "exception": false,
     "start_time": "2024-03-16T05:31:00.861845",
     "status": "completed"
    },
    "tags": []
   },
   "outputs": [],
   "source": [
    "joy_test=joy_test.set_axis(['idx', 'text', 'label', 'score'],axis=1)\n",
    "fear_test=fear_test.set_axis(['idx', 'text', 'label', 'score'],axis=1)\n",
    "anger_test=anger_test.set_axis(['idx', 'text', 'label', 'score'],axis=1)\n",
    "sad_test=sad_test.set_axis(['idx', 'text', 'label', 'score'],axis=1)"
   ]
  },
  {
   "cell_type": "code",
   "execution_count": 7,
   "id": "8dbfe57b",
   "metadata": {
    "execution": {
     "iopub.execute_input": "2024-03-16T05:31:00.922770Z",
     "iopub.status.busy": "2024-03-16T05:31:00.922378Z",
     "iopub.status.idle": "2024-03-16T05:31:00.943058Z",
     "shell.execute_reply": "2024-03-16T05:31:00.941881Z"
    },
    "papermill": {
     "duration": 0.040002,
     "end_time": "2024-03-16T05:31:00.945733",
     "exception": false,
     "start_time": "2024-03-16T05:31:00.905731",
     "status": "completed"
    },
    "tags": []
   },
   "outputs": [],
   "source": [
    "test_df=pd.concat([joy_test.drop(columns=[\"idx\"]),fear_test.drop(columns=[\"idx\"]),anger_test.drop(columns=[\"idx\"]),sad_test.drop(columns=[\"idx\"])])"
   ]
  },
  {
   "cell_type": "code",
   "execution_count": 8,
   "id": "746ce17b",
   "metadata": {
    "execution": {
     "iopub.execute_input": "2024-03-16T05:31:00.978587Z",
     "iopub.status.busy": "2024-03-16T05:31:00.977965Z",
     "iopub.status.idle": "2024-03-16T05:31:00.992765Z",
     "shell.execute_reply": "2024-03-16T05:31:00.991839Z"
    },
    "papermill": {
     "duration": 0.034279,
     "end_time": "2024-03-16T05:31:00.995238",
     "exception": false,
     "start_time": "2024-03-16T05:31:00.960959",
     "status": "completed"
    },
    "tags": []
   },
   "outputs": [],
   "source": [
    "import pandas as pd\n",
    "joy_val =pd.read_csv(\"joy-ratings-0to1.dev.target.txt\",sep=\"\\t\",header=None)\n",
    "fear_val =pd.read_csv(\"fear-ratings-0to1.dev.target.txt\",sep=\"\\t\",header=None)\n",
    "anger_val=pd.read_csv(\"anger-ratings-0to1.dev.target.txt\",sep=\"\\t\",header=None)\n",
    "sad_val=pd.read_csv(\"sadness-ratings-0to1.dev.target.txt\",sep=\"\\t\",header=None)"
   ]
  },
  {
   "cell_type": "code",
   "execution_count": 9,
   "id": "c84e7b3d",
   "metadata": {
    "execution": {
     "iopub.execute_input": "2024-03-16T05:31:01.027935Z",
     "iopub.status.busy": "2024-03-16T05:31:01.027233Z",
     "iopub.status.idle": "2024-03-16T05:31:01.035575Z",
     "shell.execute_reply": "2024-03-16T05:31:01.034381Z"
    },
    "papermill": {
     "duration": 0.02757,
     "end_time": "2024-03-16T05:31:01.038109",
     "exception": false,
     "start_time": "2024-03-16T05:31:01.010539",
     "status": "completed"
    },
    "tags": []
   },
   "outputs": [],
   "source": [
    "joy_val=joy_val.set_axis(['idx', 'text', 'label', 'score'],axis=1)\n",
    "fear_val=fear_val.set_axis(['idx', 'text', 'label', 'score'],axis=1)\n",
    "anger_val=anger_val.set_axis(['idx', 'text', 'label', 'score'],axis=1)\n",
    "sad_val=sad_val.set_axis(['idx', 'text', 'label', 'score'],axis=1)"
   ]
  },
  {
   "cell_type": "code",
   "execution_count": 10,
   "id": "3b55a746",
   "metadata": {
    "execution": {
     "iopub.execute_input": "2024-03-16T05:31:01.071264Z",
     "iopub.status.busy": "2024-03-16T05:31:01.070848Z",
     "iopub.status.idle": "2024-03-16T05:31:01.081180Z",
     "shell.execute_reply": "2024-03-16T05:31:01.079946Z"
    },
    "papermill": {
     "duration": 0.030355,
     "end_time": "2024-03-16T05:31:01.083658",
     "exception": false,
     "start_time": "2024-03-16T05:31:01.053303",
     "status": "completed"
    },
    "tags": []
   },
   "outputs": [],
   "source": [
    "valid_df=pd.concat([joy_val.drop(columns=[\"idx\"]),fear_val.drop(columns=[\"idx\"]),anger_val.drop(columns=[\"idx\"]),sad_val.drop(columns=[\"idx\"])])"
   ]
  },
  {
   "cell_type": "code",
   "execution_count": 11,
   "id": "55d27d87",
   "metadata": {
    "execution": {
     "iopub.execute_input": "2024-03-16T05:31:01.117025Z",
     "iopub.status.busy": "2024-03-16T05:31:01.116585Z",
     "iopub.status.idle": "2024-03-16T05:31:01.145496Z",
     "shell.execute_reply": "2024-03-16T05:31:01.144002Z"
    },
    "papermill": {
     "duration": 0.049182,
     "end_time": "2024-03-16T05:31:01.148402",
     "exception": false,
     "start_time": "2024-03-16T05:31:01.099220",
     "status": "completed"
    },
    "tags": []
   },
   "outputs": [],
   "source": [
    "import pandas as pd\n",
    "joy =pd.read_csv(\"joy-ratings-0to1.train.txt\",sep=\"\\t\",header=None)\n",
    "fear =pd.read_csv(\"fear-ratings-0to1.train.txt\",sep=\"\\t\",header=None)\n",
    "anger=pd.read_csv(\"anger-ratings-0to1.train.txt\",sep=\"\\t\",header=None)\n",
    "sad=pd.read_csv(\"sadness-ratings-0to1.train.txt\",sep=\"\\t\",header=None)"
   ]
  },
  {
   "cell_type": "code",
   "execution_count": 12,
   "id": "f95725c2",
   "metadata": {
    "execution": {
     "iopub.execute_input": "2024-03-16T05:31:01.180979Z",
     "iopub.status.busy": "2024-03-16T05:31:01.180536Z",
     "iopub.status.idle": "2024-03-16T05:31:01.188751Z",
     "shell.execute_reply": "2024-03-16T05:31:01.187377Z"
    },
    "papermill": {
     "duration": 0.027468,
     "end_time": "2024-03-16T05:31:01.191176",
     "exception": false,
     "start_time": "2024-03-16T05:31:01.163708",
     "status": "completed"
    },
    "tags": []
   },
   "outputs": [],
   "source": [
    "joy=joy.set_axis(['idx', 'text', 'label', 'intensity'],axis=1)\n",
    "fear=fear.set_axis(['idx', 'text', 'label', 'intensity'],axis=1)\n",
    "anger=anger.set_axis(['idx', 'text', 'label', 'intensity'],axis=1)\n",
    "sad=sad.set_axis(['idx', 'text', 'label', 'intensity'],axis=1)"
   ]
  },
  {
   "cell_type": "code",
   "execution_count": 13,
   "id": "073e3afc",
   "metadata": {
    "execution": {
     "iopub.execute_input": "2024-03-16T05:31:01.223714Z",
     "iopub.status.busy": "2024-03-16T05:31:01.223319Z",
     "iopub.status.idle": "2024-03-16T05:31:01.234173Z",
     "shell.execute_reply": "2024-03-16T05:31:01.232942Z"
    },
    "papermill": {
     "duration": 0.030376,
     "end_time": "2024-03-16T05:31:01.236774",
     "exception": false,
     "start_time": "2024-03-16T05:31:01.206398",
     "status": "completed"
    },
    "tags": []
   },
   "outputs": [],
   "source": [
    "train_df=pd.concat([joy.drop(columns=[\"idx\"]),fear.drop(columns=[\"idx\"]),anger.drop(columns=[\"idx\"]),sad.drop(columns=[\"idx\"])])"
   ]
  },
  {
   "cell_type": "code",
   "execution_count": 14,
   "id": "5d3d60f9",
   "metadata": {
    "execution": {
     "iopub.execute_input": "2024-03-16T05:31:01.269106Z",
     "iopub.status.busy": "2024-03-16T05:31:01.268682Z",
     "iopub.status.idle": "2024-03-16T05:31:02.963856Z",
     "shell.execute_reply": "2024-03-16T05:31:02.962627Z"
    },
    "papermill": {
     "duration": 1.714635,
     "end_time": "2024-03-16T05:31:02.966745",
     "exception": false,
     "start_time": "2024-03-16T05:31:01.252110",
     "status": "completed"
    },
    "tags": []
   },
   "outputs": [],
   "source": [
    "# imports\n",
    "from sklearn.model_selection import train_test_split\n",
    "from sklearn.feature_extraction.text import TfidfVectorizer\n",
    "from sklearn.naive_bayes import MultinomialNB\n",
    "from sklearn.metrics import accuracy_score, classification_report"
   ]
  },
  {
   "cell_type": "code",
   "execution_count": 15,
   "id": "da3902b3",
   "metadata": {
    "execution": {
     "iopub.execute_input": "2024-03-16T05:31:03.000203Z",
     "iopub.status.busy": "2024-03-16T05:31:02.999659Z",
     "iopub.status.idle": "2024-03-16T05:31:03.022348Z",
     "shell.execute_reply": "2024-03-16T05:31:03.021063Z"
    },
    "papermill": {
     "duration": 0.042566,
     "end_time": "2024-03-16T05:31:03.025068",
     "exception": false,
     "start_time": "2024-03-16T05:31:02.982502",
     "status": "completed"
    },
    "tags": []
   },
   "outputs": [
    {
     "data": {
      "text/html": [
       "<div>\n",
       "<style scoped>\n",
       "    .dataframe tbody tr th:only-of-type {\n",
       "        vertical-align: middle;\n",
       "    }\n",
       "\n",
       "    .dataframe tbody tr th {\n",
       "        vertical-align: top;\n",
       "    }\n",
       "\n",
       "    .dataframe thead th {\n",
       "        text-align: right;\n",
       "    }\n",
       "</style>\n",
       "<table border=\"1\" class=\"dataframe\">\n",
       "  <thead>\n",
       "    <tr style=\"text-align: right;\">\n",
       "      <th></th>\n",
       "      <th>text</th>\n",
       "      <th>label</th>\n",
       "      <th>intensity</th>\n",
       "    </tr>\n",
       "  </thead>\n",
       "  <tbody>\n",
       "    <tr>\n",
       "      <th>0</th>\n",
       "      <td>Just got back from seeing @GaryDelaney in Burs...</td>\n",
       "      <td>joy</td>\n",
       "      <td>0.980</td>\n",
       "    </tr>\n",
       "    <tr>\n",
       "      <th>1</th>\n",
       "      <td>Oh dear an evening of absolute hilarity I don'...</td>\n",
       "      <td>joy</td>\n",
       "      <td>0.958</td>\n",
       "    </tr>\n",
       "    <tr>\n",
       "      <th>2</th>\n",
       "      <td>Been waiting all week for this game ❤️❤️❤️ #ch...</td>\n",
       "      <td>joy</td>\n",
       "      <td>0.940</td>\n",
       "    </tr>\n",
       "    <tr>\n",
       "      <th>3</th>\n",
       "      <td>@gardiner_love : Thank you so much, Gloria! Yo...</td>\n",
       "      <td>joy</td>\n",
       "      <td>0.938</td>\n",
       "    </tr>\n",
       "    <tr>\n",
       "      <th>4</th>\n",
       "      <td>I feel so blessed to work with the family that...</td>\n",
       "      <td>joy</td>\n",
       "      <td>0.938</td>\n",
       "    </tr>\n",
       "  </tbody>\n",
       "</table>\n",
       "</div>"
      ],
      "text/plain": [
       "                                                text label  intensity\n",
       "0  Just got back from seeing @GaryDelaney in Burs...   joy      0.980\n",
       "1  Oh dear an evening of absolute hilarity I don'...   joy      0.958\n",
       "2  Been waiting all week for this game ❤️❤️❤️ #ch...   joy      0.940\n",
       "3  @gardiner_love : Thank you so much, Gloria! Yo...   joy      0.938\n",
       "4  I feel so blessed to work with the family that...   joy      0.938"
      ]
     },
     "execution_count": 15,
     "metadata": {},
     "output_type": "execute_result"
    }
   ],
   "source": [
    "# train_df = pd.read_csv('/kaggle/input/emotion-dataset/training.csv')\n",
    "# test_df = pd.read_csv('/kaggle/input/emotion-dataset/test.csv')\n",
    "# valid_df = pd.read_csv('/kaggle/input/emotion-dataset/validation.csv')\n",
    "train_df.head()"
   ]
  },
  {
   "cell_type": "code",
   "execution_count": 16,
   "id": "789283a3",
   "metadata": {
    "execution": {
     "iopub.execute_input": "2024-03-16T05:31:03.057938Z",
     "iopub.status.busy": "2024-03-16T05:31:03.057552Z",
     "iopub.status.idle": "2024-03-16T05:31:03.061801Z",
     "shell.execute_reply": "2024-03-16T05:31:03.060695Z"
    },
    "papermill": {
     "duration": 0.02359,
     "end_time": "2024-03-16T05:31:03.064151",
     "exception": false,
     "start_time": "2024-03-16T05:31:03.040561",
     "status": "completed"
    },
    "tags": []
   },
   "outputs": [],
   "source": [
    "# test_df = pd.read_csv('/kaggle/input/emotion-dataset/test.csv')\n",
    "# valid_df = pd.read_csv('/kaggle/input/emotion-dataset/validation.csv')"
   ]
  },
  {
   "cell_type": "code",
   "execution_count": 17,
   "id": "25bfbe09",
   "metadata": {
    "execution": {
     "iopub.execute_input": "2024-03-16T05:31:03.097612Z",
     "iopub.status.busy": "2024-03-16T05:31:03.096522Z",
     "iopub.status.idle": "2024-03-16T05:31:03.345471Z",
     "shell.execute_reply": "2024-03-16T05:31:03.343819Z"
    },
    "papermill": {
     "duration": 0.271969,
     "end_time": "2024-03-16T05:31:03.351652",
     "exception": false,
     "start_time": "2024-03-16T05:31:03.079683",
     "status": "completed"
    },
    "tags": []
   },
   "outputs": [
    {
     "data": {
      "text/plain": [
       "<Axes: ylabel='count'>"
      ]
     },
     "execution_count": 17,
     "metadata": {},
     "output_type": "execute_result"
    },
    {
     "data": {
      "image/png": "[encoded data removed]",
      "text/plain": [
       "<Figure size 640x480 with 1 Axes>"
      ]
     },
     "metadata": {},
     "output_type": "display_data"
    }
   ],
   "source": [
    "train_df.label.value_counts().plot(kind=\"pie\")"
   ]
  },
  {
   "cell_type": "code",
   "execution_count": 18,
   "id": "fb61162b",
   "metadata": {
    "execution": {
     "iopub.execute_input": "2024-03-16T05:31:03.406382Z",
     "iopub.status.busy": "2024-03-16T05:31:03.405953Z",
     "iopub.status.idle": "2024-03-16T05:31:03.413467Z",
     "shell.execute_reply": "2024-03-16T05:31:03.412396Z"
    },
    "papermill": {
     "duration": 0.028094,
     "end_time": "2024-03-16T05:31:03.416305",
     "exception": false,
     "start_time": "2024-03-16T05:31:03.388211",
     "status": "completed"
    },
    "tags": []
   },
   "outputs": [],
   "source": [
    "shuffeled_train_df=train_df.sample(len(train_df))"
   ]
  },
  {
   "cell_type": "code",
   "execution_count": 19,
   "id": "ffb81a4a",
   "metadata": {
    "execution": {
     "iopub.execute_input": "2024-03-16T05:31:03.454532Z",
     "iopub.status.busy": "2024-03-16T05:31:03.453825Z",
     "iopub.status.idle": "2024-03-16T05:31:03.766645Z",
     "shell.execute_reply": "2024-03-16T05:31:03.765154Z"
    },
    "papermill": {
     "duration": 0.334739,
     "end_time": "2024-03-16T05:31:03.769538",
     "exception": false,
     "start_time": "2024-03-16T05:31:03.434799",
     "status": "completed"
    },
    "tags": []
   },
   "outputs": [],
   "source": [
    "# text data to numerical features \n",
    "tfidf_vectorizer = TfidfVectorizer(max_features=5000, stop_words='english')\n",
    "train_features = tfidf_vectorizer.fit_transform(shuffeled_train_df[\"text\"])\n",
    "test_features = tfidf_vectorizer.transform(test_df[\"text\"])"
   ]
  },
  {
   "cell_type": "code",
   "execution_count": 20,
   "id": "0c783b85",
   "metadata": {
    "execution": {
     "iopub.execute_input": "2024-03-16T05:31:03.803667Z",
     "iopub.status.busy": "2024-03-16T05:31:03.803209Z",
     "iopub.status.idle": "2024-03-16T05:31:03.837110Z",
     "shell.execute_reply": "2024-03-16T05:31:03.835818Z"
    },
    "papermill": {
     "duration": 0.054386,
     "end_time": "2024-03-16T05:31:03.840043",
     "exception": false,
     "start_time": "2024-03-16T05:31:03.785657",
     "status": "completed"
    },
    "tags": []
   },
   "outputs": [
    {
     "data": {
      "text/html": [
       "<style>#sk-container-id-1 {color: black;background-color: white;}#sk-container-id-1 pre{padding: 0;}#sk-container-id-1 div.sk-toggleable {background-color: white;}#sk-container-id-1 label.sk-toggleable__label {cursor: pointer;display: block;width: 100%;margin-bottom: 0;padding: 0.3em;box-sizing: border-box;text-align: center;}#sk-container-id-1 label.sk-toggleable__label-arrow:before {content: \"▸\";float: left;margin-right: 0.25em;color: #696969;}#sk-container-id-1 label.sk-toggleable__label-arrow:hover:before {color: black;}#sk-container-id-1 div.sk-estimator:hover label.sk-toggleable__label-arrow:before {color: black;}#sk-container-id-1 div.sk-toggleable__content {max-height: 0;max-width: 0;overflow: hidden;text-align: left;background-color: #f0f8ff;}#sk-container-id-1 div.sk-toggleable__content pre {margin: 0.2em;color: black;border-radius: 0.25em;background-color: #f0f8ff;}#sk-container-id-1 input.sk-toggleable__control:checked~div.sk-toggleable__content {max-height: 200px;max-width: 100%;overflow: auto;}#sk-container-id-1 input.sk-toggleable__control:checked~label.sk-toggleable__label-arrow:before {content: \"▾\";}#sk-container-id-1 div.sk-estimator input.sk-toggleable__control:checked~label.sk-toggleable__label {background-color: #d4ebff;}#sk-container-id-1 div.sk-label input.sk-toggleable__control:checked~label.sk-toggleable__label {background-color: #d4ebff;}#sk-container-id-1 input.sk-hidden--visually {border: 0;clip: rect(1px 1px 1px 1px);clip: rect(1px, 1px, 1px, 1px);height: 1px;margin: -1px;overflow: hidden;padding: 0;position: absolute;width: 1px;}#sk-container-id-1 div.sk-estimator {font-family: monospace;background-color: #f0f8ff;border: 1px dotted black;border-radius: 0.25em;box-sizing: border-box;margin-bottom: 0.5em;}#sk-container-id-1 div.sk-estimator:hover {background-color: #d4ebff;}#sk-container-id-1 div.sk-parallel-item::after {content: \"\";width: 100%;border-bottom: 1px solid gray;flex-grow: 1;}#sk-container-id-1 div.sk-label:hover label.sk-toggleable__label {background-color: #d4ebff;}#sk-container-id-1 div.sk-serial::before {content: \"\";position: absolute;border-left: 1px solid gray;box-sizing: border-box;top: 0;bottom: 0;left: 50%;z-index: 0;}#sk-container-id-1 div.sk-serial {display: flex;flex-direction: column;align-items: center;background-color: white;padding-right: 0.2em;padding-left: 0.2em;position: relative;}#sk-container-id-1 div.sk-item {position: relative;z-index: 1;}#sk-container-id-1 div.sk-parallel {display: flex;align-items: stretch;justify-content: center;background-color: white;position: relative;}#sk-container-id-1 div.sk-item::before, #sk-container-id-1 div.sk-parallel-item::before {content: \"\";position: absolute;border-left: 1px solid gray;box-sizing: border-box;top: 0;bottom: 0;left: 50%;z-index: -1;}#sk-container-id-1 div.sk-parallel-item {display: flex;flex-direction: column;z-index: 1;position: relative;background-color: white;}#sk-container-id-1 div.sk-parallel-item:first-child::after {align-self: flex-end;width: 50%;}#sk-container-id-1 div.sk-parallel-item:last-child::after {align-self: flex-start;width: 50%;}#sk-container-id-1 div.sk-parallel-item:only-child::after {width: 0;}#sk-container-id-1 div.sk-dashed-wrapped {border: 1px dashed gray;margin: 0 0.4em 0.5em 0.4em;box-sizing: border-box;padding-bottom: 0.4em;background-color: white;}#sk-container-id-1 div.sk-label label {font-family: monospace;font-weight: bold;display: inline-block;line-height: 1.2em;}#sk-container-id-1 div.sk-label-container {text-align: center;}#sk-container-id-1 div.sk-container {/* jupyter's `normalize.less` sets `[hidden] { display: none; }` but bootstrap.min.css set `[hidden] { display: none !important; }` so we also need the `!important` here to be able to override the default hidden behavior on the sphinx rendered scikit-learn.org. See: https://github.com/scikit-learn/scikit-learn/issues/21755 */display: inline-block !important;position: relative;}#sk-container-id-1 div.sk-text-repr-fallback {display: none;}</style><div id=\"sk-container-id-1\" class=\"sk-top-container\"><div class=\"sk-text-repr-fallback\"><pre>MultinomialNB()</pre><b>In a Jupyter environment, please rerun this cell to show the HTML representation or trust the notebook. <br />On GitHub, the HTML representation is unable to render, please try loading this page with nbviewer.org.</b></div><div class=\"sk-container\" hidden><div class=\"sk-item\"><div class=\"sk-estimator sk-toggleable\"><input class=\"sk-toggleable__control sk-hidden--visually\" id=\"sk-estimator-id-1\" type=\"checkbox\" checked><label for=\"sk-estimator-id-1\" class=\"sk-toggleable__label sk-toggleable__label-arrow\">MultinomialNB</label><div class=\"sk-toggleable__content\"><pre>MultinomialNB()</pre></div></div></div></div></div>"
      ],
      "text/plain": [
       "MultinomialNB()"
      ]
     },
     "execution_count": 20,
     "metadata": {},
     "output_type": "execute_result"
    }
   ],
   "source": [
    "model = MultinomialNB()\n",
    "model.fit(train_features,shuffeled_train_df[\"label\"])"
   ]
  },
  {
   "cell_type": "code",
   "execution_count": 21,
   "id": "4f10f4a4",
   "metadata": {
    "execution": {
     "iopub.execute_input": "2024-03-16T05:31:03.875044Z",
     "iopub.status.busy": "2024-03-16T05:31:03.874310Z",
     "iopub.status.idle": "2024-03-16T05:31:03.982661Z",
     "shell.execute_reply": "2024-03-16T05:31:03.981351Z"
    },
    "papermill": {
     "duration": 0.128721,
     "end_time": "2024-03-16T05:31:03.985415",
     "exception": false,
     "start_time": "2024-03-16T05:31:03.856694",
     "status": "completed"
    },
    "tags": []
   },
   "outputs": [
    {
     "name": "stdout",
     "output_type": "stream",
     "text": [
      "Accuracy: 0.76\n",
      "              precision    recall  f1-score   support\n",
      "\n",
      "       anger       0.83      0.71      0.76       760\n",
      "        fear       0.66      0.88      0.76       995\n",
      "         joy       0.85      0.76      0.80       714\n",
      "     sadness       0.80      0.62      0.70       673\n",
      "\n",
      "    accuracy                           0.76      3142\n",
      "   macro avg       0.78      0.74      0.76      3142\n",
      "weighted avg       0.77      0.76      0.76      3142\n",
      "\n"
     ]
    }
   ],
   "source": [
    "predictions = model.predict(test_features)\n",
    "\n",
    "accuracy = accuracy_score(test_df['label'], predictions)\n",
    "print(f'Accuracy: {accuracy:.2f}')\n",
    "\n",
    "print(classification_report(test_df['label'], predictions))"
   ]
  },
  {
   "cell_type": "code",
   "execution_count": 22,
   "id": "38c9cdd0",
   "metadata": {
    "execution": {
     "iopub.execute_input": "2024-03-16T05:31:04.021254Z",
     "iopub.status.busy": "2024-03-16T05:31:04.020015Z",
     "iopub.status.idle": "2024-03-16T05:31:04.234662Z",
     "shell.execute_reply": "2024-03-16T05:31:04.233414Z"
    },
    "papermill": {
     "duration": 0.235327,
     "end_time": "2024-03-16T05:31:04.237350",
     "exception": false,
     "start_time": "2024-03-16T05:31:04.002023",
     "status": "completed"
    },
    "tags": []
   },
   "outputs": [
    {
     "name": "stdout",
     "output_type": "stream",
     "text": [
      "Validation Accuracy: 0.80\n",
      "Validation Classification Report:\n",
      "              precision    recall  f1-score   support\n",
      "\n",
      "       anger       0.80      0.73      0.76        84\n",
      "        fear       0.72      0.89      0.79       110\n",
      "         joy       0.89      0.80      0.84        79\n",
      "     sadness       0.86      0.73      0.79        74\n",
      "\n",
      "    accuracy                           0.80       347\n",
      "   macro avg       0.82      0.79      0.80       347\n",
      "weighted avg       0.81      0.80      0.80       347\n",
      "\n",
      "Test Accuracy: 0.76\n",
      "Test Classification Report:\n",
      "              precision    recall  f1-score   support\n",
      "\n",
      "       anger       0.83      0.71      0.76       760\n",
      "        fear       0.66      0.88      0.76       995\n",
      "         joy       0.85      0.76      0.80       714\n",
      "     sadness       0.80      0.62      0.70       673\n",
      "\n",
      "    accuracy                           0.76      3142\n",
      "   macro avg       0.78      0.74      0.76      3142\n",
      "weighted avg       0.77      0.76      0.76      3142\n",
      "\n"
     ]
    }
   ],
   "source": [
    "validation_df = valid_df\n",
    "test_df = test_df\n",
    "\n",
    "validation_features = tfidf_vectorizer.transform(validation_df['text'])\n",
    "validation_labels = validation_df['label']\n",
    "\n",
    "test_features = tfidf_vectorizer.transform(test_df['text'])\n",
    "test_labels = test_df['label']\n",
    "\n",
    "# Validating model on validation set\n",
    "validation_predictions = model.predict(validation_features)\n",
    "validation_accuracy = accuracy_score(validation_labels, validation_predictions)\n",
    "print(f'Validation Accuracy: {validation_accuracy:.2f}')\n",
    "print('Validation Classification Report:')\n",
    "print(classification_report(validation_labels, validation_predictions))\n",
    "\n",
    "test_predictions = model.predict(test_features)\n",
    "test_accuracy = accuracy_score(test_labels, test_predictions)\n",
    "print(f'Test Accuracy: {test_accuracy:.2f}')\n",
    "print('Test Classification Report:')\n",
    "print(classification_report(test_labels, test_predictions))"
   ]
  },
  {
   "cell_type": "code",
   "execution_count": 23,
   "id": "0b5b2127",
   "metadata": {
    "execution": {
     "iopub.execute_input": "2024-03-16T05:31:04.273892Z",
     "iopub.status.busy": "2024-03-16T05:31:04.272490Z",
     "iopub.status.idle": "2024-03-16T05:31:23.216978Z",
     "shell.execute_reply": "2024-03-16T05:31:23.215614Z"
    },
    "papermill": {
     "duration": 18.965526,
     "end_time": "2024-03-16T05:31:23.220046",
     "exception": false,
     "start_time": "2024-03-16T05:31:04.254520",
     "status": "completed"
    },
    "tags": []
   },
   "outputs": [
    {
     "data": {
      "text/html": [
       "<style>#sk-container-id-2 {color: black;background-color: white;}#sk-container-id-2 pre{padding: 0;}#sk-container-id-2 div.sk-toggleable {background-color: white;}#sk-container-id-2 label.sk-toggleable__label {cursor: pointer;display: block;width: 100%;margin-bottom: 0;padding: 0.3em;box-sizing: border-box;text-align: center;}#sk-container-id-2 label.sk-toggleable__label-arrow:before {content: \"▸\";float: left;margin-right: 0.25em;color: #696969;}#sk-container-id-2 label.sk-toggleable__label-arrow:hover:before {color: black;}#sk-container-id-2 div.sk-estimator:hover label.sk-toggleable__label-arrow:before {color: black;}#sk-container-id-2 div.sk-toggleable__content {max-height: 0;max-width: 0;overflow: hidden;text-align: left;background-color: #f0f8ff;}#sk-container-id-2 div.sk-toggleable__content pre {margin: 0.2em;color: black;border-radius: 0.25em;background-color: #f0f8ff;}#sk-container-id-2 input.sk-toggleable__control:checked~div.sk-toggleable__content {max-height: 200px;max-width: 100%;overflow: auto;}#sk-container-id-2 input.sk-toggleable__control:checked~label.sk-toggleable__label-arrow:before {content: \"▾\";}#sk-container-id-2 div.sk-estimator input.sk-toggleable__control:checked~label.sk-toggleable__label {background-color: #d4ebff;}#sk-container-id-2 div.sk-label input.sk-toggleable__control:checked~label.sk-toggleable__label {background-color: #d4ebff;}#sk-container-id-2 input.sk-hidden--visually {border: 0;clip: rect(1px 1px 1px 1px);clip: rect(1px, 1px, 1px, 1px);height: 1px;margin: -1px;overflow: hidden;padding: 0;position: absolute;width: 1px;}#sk-container-id-2 div.sk-estimator {font-family: monospace;background-color: #f0f8ff;border: 1px dotted black;border-radius: 0.25em;box-sizing: border-box;margin-bottom: 0.5em;}#sk-container-id-2 div.sk-estimator:hover {background-color: #d4ebff;}#sk-container-id-2 div.sk-parallel-item::after {content: \"\";width: 100%;border-bottom: 1px solid gray;flex-grow: 1;}#sk-container-id-2 div.sk-label:hover label.sk-toggleable__label {background-color: #d4ebff;}#sk-container-id-2 div.sk-serial::before {content: \"\";position: absolute;border-left: 1px solid gray;box-sizing: border-box;top: 0;bottom: 0;left: 50%;z-index: 0;}#sk-container-id-2 div.sk-serial {display: flex;flex-direction: column;align-items: center;background-color: white;padding-right: 0.2em;padding-left: 0.2em;position: relative;}#sk-container-id-2 div.sk-item {position: relative;z-index: 1;}#sk-container-id-2 div.sk-parallel {display: flex;align-items: stretch;justify-content: center;background-color: white;position: relative;}#sk-container-id-2 div.sk-item::before, #sk-container-id-2 div.sk-parallel-item::before {content: \"\";position: absolute;border-left: 1px solid gray;box-sizing: border-box;top: 0;bottom: 0;left: 50%;z-index: -1;}#sk-container-id-2 div.sk-parallel-item {display: flex;flex-direction: column;z-index: 1;position: relative;background-color: white;}#sk-container-id-2 div.sk-parallel-item:first-child::after {align-self: flex-end;width: 50%;}#sk-container-id-2 div.sk-parallel-item:last-child::after {align-self: flex-start;width: 50%;}#sk-container-id-2 div.sk-parallel-item:only-child::after {width: 0;}#sk-container-id-2 div.sk-dashed-wrapped {border: 1px dashed gray;margin: 0 0.4em 0.5em 0.4em;box-sizing: border-box;padding-bottom: 0.4em;background-color: white;}#sk-container-id-2 div.sk-label label {font-family: monospace;font-weight: bold;display: inline-block;line-height: 1.2em;}#sk-container-id-2 div.sk-label-container {text-align: center;}#sk-container-id-2 div.sk-container {/* jupyter's `normalize.less` sets `[hidden] { display: none; }` but bootstrap.min.css set `[hidden] { display: none !important; }` so we also need the `!important` here to be able to override the default hidden behavior on the sphinx rendered scikit-learn.org. See: https://github.com/scikit-learn/scikit-learn/issues/21755 */display: inline-block !important;position: relative;}#sk-container-id-2 div.sk-text-repr-fallback {display: none;}</style><div id=\"sk-container-id-2\" class=\"sk-top-container\"><div class=\"sk-text-repr-fallback\"><pre>RandomForestClassifier(n_estimators=500)</pre><b>In a Jupyter environment, please rerun this cell to show the HTML representation or trust the notebook. <br />On GitHub, the HTML representation is unable to render, please try loading this page with nbviewer.org.</b></div><div class=\"sk-container\" hidden><div class=\"sk-item\"><div class=\"sk-estimator sk-toggleable\"><input class=\"sk-toggleable__control sk-hidden--visually\" id=\"sk-estimator-id-2\" type=\"checkbox\" checked><label for=\"sk-estimator-id-2\" class=\"sk-toggleable__label sk-toggleable__label-arrow\">RandomForestClassifier</label><div class=\"sk-toggleable__content\"><pre>RandomForestClassifier(n_estimators=500)</pre></div></div></div></div></div>"
      ],
      "text/plain": [
       "RandomForestClassifier(n_estimators=500)"
      ]
     },
     "execution_count": 23,
     "metadata": {},
     "output_type": "execute_result"
    }
   ],
   "source": [
    "from sklearn.ensemble import RandomForestClassifier\n",
    "rf = RandomForestClassifier(n_estimators=500)\n",
    "rf.fit(train_features,shuffeled_train_df[\"label\"])"
   ]
  },
  {
   "cell_type": "code",
   "execution_count": 24,
   "id": "81feae54",
   "metadata": {
    "execution": {
     "iopub.execute_input": "2024-03-16T05:31:23.255672Z",
     "iopub.status.busy": "2024-03-16T05:31:23.255248Z",
     "iopub.status.idle": "2024-03-16T05:31:24.767105Z",
     "shell.execute_reply": "2024-03-16T05:31:24.765672Z"
    },
    "papermill": {
     "duration": 1.533646,
     "end_time": "2024-03-16T05:31:24.770478",
     "exception": false,
     "start_time": "2024-03-16T05:31:23.236832",
     "status": "completed"
    },
    "tags": []
   },
   "outputs": [
    {
     "name": "stdout",
     "output_type": "stream",
     "text": [
      "Validation Accuracy: 0.84\n",
      "Validation Classification Report:\n",
      "              precision    recall  f1-score   support\n",
      "\n",
      "       anger       0.90      0.76      0.83        84\n",
      "        fear       0.78      0.89      0.83       110\n",
      "         joy       0.94      0.84      0.89        79\n",
      "     sadness       0.77      0.84      0.80        74\n",
      "\n",
      "    accuracy                           0.84       347\n",
      "   macro avg       0.85      0.83      0.84       347\n",
      "weighted avg       0.84      0.84      0.84       347\n",
      "\n",
      "Test Accuracy: 0.82\n",
      "Test Classification Report:\n",
      "              precision    recall  f1-score   support\n",
      "\n",
      "       anger       0.90      0.76      0.83       760\n",
      "        fear       0.76      0.86      0.81       995\n",
      "         joy       0.91      0.85      0.88       714\n",
      "     sadness       0.77      0.79      0.78       673\n",
      "\n",
      "    accuracy                           0.82      3142\n",
      "   macro avg       0.83      0.82      0.82      3142\n",
      "weighted avg       0.83      0.82      0.82      3142\n",
      "\n"
     ]
    }
   ],
   "source": [
    "model=rf\n",
    "validation_df =valid_df\n",
    "test_df = test_df\n",
    "\n",
    "validation_features = tfidf_vectorizer.transform(validation_df['text'])\n",
    "validation_labels = validation_df['label']\n",
    "\n",
    "test_features = tfidf_vectorizer.transform(test_df['text'])\n",
    "test_labels = test_df['label']\n",
    "\n",
    "# Validating model on validation set\n",
    "validation_predictions = model.predict(validation_features)\n",
    "validation_accuracy = accuracy_score(validation_labels, validation_predictions)\n",
    "print(f'Validation Accuracy: {validation_accuracy:.2f}')\n",
    "print('Validation Classification Report:')\n",
    "print(classification_report(validation_labels, validation_predictions))\n",
    "\n",
    "test_predictions = model.predict(test_features)\n",
    "test_accuracy = accuracy_score(test_labels, test_predictions)\n",
    "print(f'Test Accuracy: {test_accuracy:.2f}')\n",
    "print('Test Classification Report:')\n",
    "print(classification_report(test_labels, test_predictions))"
   ]
  },
  {
   "cell_type": "code",
   "execution_count": 25,
   "id": "5dddf14e",
   "metadata": {
    "execution": {
     "iopub.execute_input": "2024-03-16T05:31:24.807316Z",
     "iopub.status.busy": "2024-03-16T05:31:24.806860Z",
     "iopub.status.idle": "2024-03-16T05:31:26.050843Z",
     "shell.execute_reply": "2024-03-16T05:31:26.049120Z"
    },
    "papermill": {
     "duration": 1.265898,
     "end_time": "2024-03-16T05:31:26.053731",
     "exception": false,
     "start_time": "2024-03-16T05:31:24.787833",
     "status": "completed"
    },
    "tags": []
   },
   "outputs": [
    {
     "name": "stdout",
     "output_type": "stream",
     "text": [
      "Accuracy: 0.82\n",
      "              precision    recall  f1-score   support\n",
      "\n",
      "       anger       0.90      0.76      0.83       760\n",
      "        fear       0.76      0.86      0.81       995\n",
      "         joy       0.91      0.85      0.88       714\n",
      "     sadness       0.77      0.79      0.78       673\n",
      "\n",
      "    accuracy                           0.82      3142\n",
      "   macro avg       0.83      0.82      0.82      3142\n",
      "weighted avg       0.83      0.82      0.82      3142\n",
      "\n"
     ]
    }
   ],
   "source": [
    "predictions = rf.predict(test_features)\n",
    "\n",
    "accuracy = accuracy_score(test_df['label'], predictions)\n",
    "print(f'Accuracy: {accuracy:.2f}')\n",
    "\n",
    "print(classification_report(test_df['label'], predictions))"
   ]
  },
  {
   "cell_type": "code",
   "execution_count": 26,
   "id": "bedb7fa0",
   "metadata": {
    "execution": {
     "iopub.execute_input": "2024-03-16T05:31:26.092855Z",
     "iopub.status.busy": "2024-03-16T05:31:26.092465Z",
     "iopub.status.idle": "2024-03-16T05:31:26.110171Z",
     "shell.execute_reply": "2024-03-16T05:31:26.108662Z"
    },
    "papermill": {
     "duration": 0.040569,
     "end_time": "2024-03-16T05:31:26.113060",
     "exception": false,
     "start_time": "2024-03-16T05:31:26.072491",
     "status": "completed"
    },
    "tags": []
   },
   "outputs": [
    {
     "data": {
      "text/html": [
       "<style>#sk-container-id-3 {color: black;background-color: white;}#sk-container-id-3 pre{padding: 0;}#sk-container-id-3 div.sk-toggleable {background-color: white;}#sk-container-id-3 label.sk-toggleable__label {cursor: pointer;display: block;width: 100%;margin-bottom: 0;padding: 0.3em;box-sizing: border-box;text-align: center;}#sk-container-id-3 label.sk-toggleable__label-arrow:before {content: \"▸\";float: left;margin-right: 0.25em;color: #696969;}#sk-container-id-3 label.sk-toggleable__label-arrow:hover:before {color: black;}#sk-container-id-3 div.sk-estimator:hover label.sk-toggleable__label-arrow:before {color: black;}#sk-container-id-3 div.sk-toggleable__content {max-height: 0;max-width: 0;overflow: hidden;text-align: left;background-color: #f0f8ff;}#sk-container-id-3 div.sk-toggleable__content pre {margin: 0.2em;color: black;border-radius: 0.25em;background-color: #f0f8ff;}#sk-container-id-3 input.sk-toggleable__control:checked~div.sk-toggleable__content {max-height: 200px;max-width: 100%;overflow: auto;}#sk-container-id-3 input.sk-toggleable__control:checked~label.sk-toggleable__label-arrow:before {content: \"▾\";}#sk-container-id-3 div.sk-estimator input.sk-toggleable__control:checked~label.sk-toggleable__label {background-color: #d4ebff;}#sk-container-id-3 div.sk-label input.sk-toggleable__control:checked~label.sk-toggleable__label {background-color: #d4ebff;}#sk-container-id-3 input.sk-hidden--visually {border: 0;clip: rect(1px 1px 1px 1px);clip: rect(1px, 1px, 1px, 1px);height: 1px;margin: -1px;overflow: hidden;padding: 0;position: absolute;width: 1px;}#sk-container-id-3 div.sk-estimator {font-family: monospace;background-color: #f0f8ff;border: 1px dotted black;border-radius: 0.25em;box-sizing: border-box;margin-bottom: 0.5em;}#sk-container-id-3 div.sk-estimator:hover {background-color: #d4ebff;}#sk-container-id-3 div.sk-parallel-item::after {content: \"\";width: 100%;border-bottom: 1px solid gray;flex-grow: 1;}#sk-container-id-3 div.sk-label:hover label.sk-toggleable__label {background-color: #d4ebff;}#sk-container-id-3 div.sk-serial::before {content: \"\";position: absolute;border-left: 1px solid gray;box-sizing: border-box;top: 0;bottom: 0;left: 50%;z-index: 0;}#sk-container-id-3 div.sk-serial {display: flex;flex-direction: column;align-items: center;background-color: white;padding-right: 0.2em;padding-left: 0.2em;position: relative;}#sk-container-id-3 div.sk-item {position: relative;z-index: 1;}#sk-container-id-3 div.sk-parallel {display: flex;align-items: stretch;justify-content: center;background-color: white;position: relative;}#sk-container-id-3 div.sk-item::before, #sk-container-id-3 div.sk-parallel-item::before {content: \"\";position: absolute;border-left: 1px solid gray;box-sizing: border-box;top: 0;bottom: 0;left: 50%;z-index: -1;}#sk-container-id-3 div.sk-parallel-item {display: flex;flex-direction: column;z-index: 1;position: relative;background-color: white;}#sk-container-id-3 div.sk-parallel-item:first-child::after {align-self: flex-end;width: 50%;}#sk-container-id-3 div.sk-parallel-item:last-child::after {align-self: flex-start;width: 50%;}#sk-container-id-3 div.sk-parallel-item:only-child::after {width: 0;}#sk-container-id-3 div.sk-dashed-wrapped {border: 1px dashed gray;margin: 0 0.4em 0.5em 0.4em;box-sizing: border-box;padding-bottom: 0.4em;background-color: white;}#sk-container-id-3 div.sk-label label {font-family: monospace;font-weight: bold;display: inline-block;line-height: 1.2em;}#sk-container-id-3 div.sk-label-container {text-align: center;}#sk-container-id-3 div.sk-container {/* jupyter's `normalize.less` sets `[hidden] { display: none; }` but bootstrap.min.css set `[hidden] { display: none !important; }` so we also need the `!important` here to be able to override the default hidden behavior on the sphinx rendered scikit-learn.org. See: https://github.com/scikit-learn/scikit-learn/issues/21755 */display: inline-block !important;position: relative;}#sk-container-id-3 div.sk-text-repr-fallback {display: none;}</style><div id=\"sk-container-id-3\" class=\"sk-top-container\"><div class=\"sk-text-repr-fallback\"><pre>KNeighborsClassifier(n_neighbors=6)</pre><b>In a Jupyter environment, please rerun this cell to show the HTML representation or trust the notebook. <br />On GitHub, the HTML representation is unable to render, please try loading this page with nbviewer.org.</b></div><div class=\"sk-container\" hidden><div class=\"sk-item\"><div class=\"sk-estimator sk-toggleable\"><input class=\"sk-toggleable__control sk-hidden--visually\" id=\"sk-estimator-id-3\" type=\"checkbox\" checked><label for=\"sk-estimator-id-3\" class=\"sk-toggleable__label sk-toggleable__label-arrow\">KNeighborsClassifier</label><div class=\"sk-toggleable__content\"><pre>KNeighborsClassifier(n_neighbors=6)</pre></div></div></div></div></div>"
      ],
      "text/plain": [
       "KNeighborsClassifier(n_neighbors=6)"
      ]
     },
     "execution_count": 26,
     "metadata": {},
     "output_type": "execute_result"
    }
   ],
   "source": [
    "from sklearn.neighbors import KNeighborsClassifier\n",
    "knn = KNeighborsClassifier(n_neighbors=6)\n",
    "knn.fit(train_features,shuffeled_train_df[\"label\"])"
   ]
  },
  {
   "cell_type": "code",
   "execution_count": 27,
   "id": "776802e5",
   "metadata": {
    "execution": {
     "iopub.execute_input": "2024-03-16T05:31:26.150847Z",
     "iopub.status.busy": "2024-03-16T05:31:26.150061Z",
     "iopub.status.idle": "2024-03-16T05:31:27.267632Z",
     "shell.execute_reply": "2024-03-16T05:31:27.266633Z"
    },
    "papermill": {
     "duration": 1.13906,
     "end_time": "2024-03-16T05:31:27.270160",
     "exception": false,
     "start_time": "2024-03-16T05:31:26.131100",
     "status": "completed"
    },
    "tags": []
   },
   "outputs": [
    {
     "name": "stdout",
     "output_type": "stream",
     "text": [
      "Validation Accuracy: 0.67\n",
      "Validation Classification Report:\n",
      "              precision    recall  f1-score   support\n",
      "\n",
      "       anger       0.79      0.65      0.71        84\n",
      "        fear       0.61      0.82      0.70       110\n",
      "         joy       0.80      0.51      0.62        79\n",
      "     sadness       0.58      0.62      0.60        74\n",
      "\n",
      "    accuracy                           0.67       347\n",
      "   macro avg       0.69      0.65      0.66       347\n",
      "weighted avg       0.69      0.67      0.66       347\n",
      "\n",
      "Test Accuracy: 0.64\n",
      "Test Classification Report:\n",
      "              precision    recall  f1-score   support\n",
      "\n",
      "       anger       0.69      0.61      0.65       760\n",
      "        fear       0.59      0.76      0.66       995\n",
      "         joy       0.79      0.50      0.62       714\n",
      "     sadness       0.60      0.64      0.62       673\n",
      "\n",
      "    accuracy                           0.64      3142\n",
      "   macro avg       0.67      0.63      0.64      3142\n",
      "weighted avg       0.66      0.64      0.64      3142\n",
      "\n"
     ]
    }
   ],
   "source": [
    "model=knn\n",
    "validation_df = valid_df\n",
    "test_df = test_df\n",
    "\n",
    "validation_features = tfidf_vectorizer.transform(validation_df['text'])\n",
    "validation_labels = validation_df['label']\n",
    "\n",
    "test_features = tfidf_vectorizer.transform(test_df['text'])\n",
    "test_labels = test_df['label']\n",
    "\n",
    "# Validating model on validation set\n",
    "validation_predictions = model.predict(validation_features)\n",
    "validation_accuracy = accuracy_score(validation_labels, validation_predictions)\n",
    "print(f'Validation Accuracy: {validation_accuracy:.2f}')\n",
    "print('Validation Classification Report:')\n",
    "print(classification_report(validation_labels, validation_predictions))\n",
    "\n",
    "test_predictions = model.predict(test_features)\n",
    "test_accuracy = accuracy_score(test_labels, test_predictions)\n",
    "print(f'Test Accuracy: {test_accuracy:.2f}')\n",
    "print('Test Classification Report:')\n",
    "print(classification_report(test_labels, test_predictions))"
   ]
  }
 ],
 "metadata": {
  "kaggle": {
   "accelerator": "none",
   "dataSources": [
    {
     "datasetId": 1590810,
     "sourceId": 2617192,
     "sourceType": "datasetVersion"
    },
    {
     "modelInstanceId": 2180,
     "sourceId": 2938,
     "sourceType": "modelInstanceVersion"
    }
   ],
   "dockerImageVersionId": 30664,
   "isGpuEnabled": false,
   "isInternetEnabled": true,
   "language": "python",
   "sourceType": "notebook"
  },
  "kernelspec": {
   "display_name": "Python 3",
   "language": "python",
   "name": "python3"
  },
  "language_info": {
   "codemirror_mode": {
    "name": "ipython",
    "version": 3
   },
   "file_extension": ".py",
   "mimetype": "text/x-python",
   "name": "python",
   "nbconvert_exporter": "python",
   "pygments_lexer": "ipython3",
   "version": "3.10.13"
  },
  "papermill": {
   "default_parameters": {},
   "duration": 51.525049,
   "end_time": "2024-03-16T05:31:28.011052",
   "environment_variables": {},
   "exception": null,
   "input_path": "__notebook__.ipynb",
   "output_path": "__notebook__.ipynb",
   "parameters": {},
   "start_time": "2024-03-16T05:30:36.486003",
   "version": "2.5.0"
  }
 },
 "nbformat": 4,
 "nbformat_minor": 5
}
